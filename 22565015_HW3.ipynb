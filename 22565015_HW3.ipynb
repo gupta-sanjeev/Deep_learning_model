{
 "cells": [
  {
   "cell_type": "markdown",
   "id": "c00800b7",
   "metadata": {
    "scrolled": true
   },
   "source": [
    "# Sanjeev Gupta (22565015)"
   ]
  },
  {
   "cell_type": "code",
   "execution_count": 1,
   "id": "0097c084",
   "metadata": {},
   "outputs": [
    {
     "data": {
      "text/plain": [
       "'1.13.1'"
      ]
     },
     "execution_count": 1,
     "metadata": {},
     "output_type": "execute_result"
    }
   ],
   "source": [
    "import torch\n",
    "from torch import nn\n",
    "import random\n",
    "from PIL import Image\n",
    "import requests\n",
    "from pathlib import Path\n",
    "import os\n",
    "torch.__version__"
   ]
  },
  {
   "cell_type": "code",
   "execution_count": 2,
   "id": "49eda4b0",
   "metadata": {},
   "outputs": [
    {
     "data": {
      "text/plain": [
       "'cpu'"
      ]
     },
     "execution_count": 2,
     "metadata": {},
     "output_type": "execute_result"
    }
   ],
   "source": [
    "# Setup device-agnostic code\n",
    "device = \"cuda\" if torch.cuda.is_available() else \"cpu\"\n",
    "device"
   ]
  },
  {
   "cell_type": "code",
   "execution_count": 3,
   "id": "c0ad1943",
   "metadata": {},
   "outputs": [],
   "source": [
    "data_path = Path(\"F:\\M.tech\\Second sem\\CV\")\n",
    "image_path = data_path / \"F:\\M.tech\\Second sem\\CV\\cnn\""
   ]
  },
  {
   "cell_type": "code",
   "execution_count": 4,
   "id": "068078c7",
   "metadata": {},
   "outputs": [
    {
     "name": "stdout",
     "output_type": "stream",
     "text": [
      "F:\\M.tech\\Second sem\\CV\\cnn directory exists.\n"
     ]
    }
   ],
   "source": [
    "if image_path.is_dir():\n",
    "    print(f\"{image_path} directory exists.\")\n",
    "else:\n",
    "    print(f\"Did not find {image_path} directory, creating one...\")\n",
    "    image_path.mkdir(parents=True, exist_ok=True)"
   ]
  },
  {
   "cell_type": "code",
   "execution_count": 5,
   "id": "8e5ad508",
   "metadata": {},
   "outputs": [],
   "source": [
    "def walk_through_dir(dir_path):\n",
    "    for dirpath, dirnames, filenames in os.walk(dir_path):\n",
    "        print(f\"There are {len(dirnames)} directories and {len(filenames)} images in '{dirpath}'.\")"
   ]
  },
  {
   "cell_type": "code",
   "execution_count": 6,
   "id": "fc087907",
   "metadata": {
    "scrolled": false
   },
   "outputs": [
    {
     "name": "stdout",
     "output_type": "stream",
     "text": [
      "There are 2 directories and 0 images in 'F:\\M.tech\\Second sem\\CV\\cnn'.\n",
      "There are 28 directories and 0 images in 'F:\\M.tech\\Second sem\\CV\\cnn\\test'.\n",
      "There are 0 directories and 1 images in 'F:\\M.tech\\Second sem\\CV\\cnn\\test\\A'.\n",
      "There are 0 directories and 1 images in 'F:\\M.tech\\Second sem\\CV\\cnn\\test\\B'.\n",
      "There are 0 directories and 1 images in 'F:\\M.tech\\Second sem\\CV\\cnn\\test\\C'.\n",
      "There are 0 directories and 1 images in 'F:\\M.tech\\Second sem\\CV\\cnn\\test\\D'.\n",
      "There are 0 directories and 1 images in 'F:\\M.tech\\Second sem\\CV\\cnn\\test\\E'.\n",
      "There are 0 directories and 1 images in 'F:\\M.tech\\Second sem\\CV\\cnn\\test\\F'.\n",
      "There are 0 directories and 1 images in 'F:\\M.tech\\Second sem\\CV\\cnn\\test\\G'.\n",
      "There are 0 directories and 1 images in 'F:\\M.tech\\Second sem\\CV\\cnn\\test\\H'.\n",
      "There are 0 directories and 1 images in 'F:\\M.tech\\Second sem\\CV\\cnn\\test\\I'.\n",
      "There are 0 directories and 1 images in 'F:\\M.tech\\Second sem\\CV\\cnn\\test\\J'.\n",
      "There are 0 directories and 1 images in 'F:\\M.tech\\Second sem\\CV\\cnn\\test\\K'.\n",
      "There are 0 directories and 1 images in 'F:\\M.tech\\Second sem\\CV\\cnn\\test\\L'.\n",
      "There are 0 directories and 1 images in 'F:\\M.tech\\Second sem\\CV\\cnn\\test\\M'.\n",
      "There are 0 directories and 1 images in 'F:\\M.tech\\Second sem\\CV\\cnn\\test\\N'.\n",
      "There are 0 directories and 1 images in 'F:\\M.tech\\Second sem\\CV\\cnn\\test\\nothing'.\n",
      "There are 0 directories and 1 images in 'F:\\M.tech\\Second sem\\CV\\cnn\\test\\O'.\n",
      "There are 0 directories and 1 images in 'F:\\M.tech\\Second sem\\CV\\cnn\\test\\P'.\n",
      "There are 0 directories and 1 images in 'F:\\M.tech\\Second sem\\CV\\cnn\\test\\Q'.\n",
      "There are 0 directories and 1 images in 'F:\\M.tech\\Second sem\\CV\\cnn\\test\\R'.\n",
      "There are 0 directories and 1 images in 'F:\\M.tech\\Second sem\\CV\\cnn\\test\\S'.\n",
      "There are 0 directories and 1 images in 'F:\\M.tech\\Second sem\\CV\\cnn\\test\\spcae_test'.\n",
      "There are 0 directories and 1 images in 'F:\\M.tech\\Second sem\\CV\\cnn\\test\\T'.\n",
      "There are 0 directories and 1 images in 'F:\\M.tech\\Second sem\\CV\\cnn\\test\\U'.\n",
      "There are 0 directories and 1 images in 'F:\\M.tech\\Second sem\\CV\\cnn\\test\\V'.\n",
      "There are 0 directories and 1 images in 'F:\\M.tech\\Second sem\\CV\\cnn\\test\\W'.\n",
      "There are 0 directories and 1 images in 'F:\\M.tech\\Second sem\\CV\\cnn\\test\\X'.\n",
      "There are 0 directories and 1 images in 'F:\\M.tech\\Second sem\\CV\\cnn\\test\\Y'.\n",
      "There are 0 directories and 1 images in 'F:\\M.tech\\Second sem\\CV\\cnn\\test\\Z'.\n",
      "There are 29 directories and 0 images in 'F:\\M.tech\\Second sem\\CV\\cnn\\train'.\n",
      "There are 0 directories and 3000 images in 'F:\\M.tech\\Second sem\\CV\\cnn\\train\\A'.\n",
      "There are 0 directories and 3000 images in 'F:\\M.tech\\Second sem\\CV\\cnn\\train\\B'.\n",
      "There are 0 directories and 3000 images in 'F:\\M.tech\\Second sem\\CV\\cnn\\train\\C'.\n",
      "There are 0 directories and 3000 images in 'F:\\M.tech\\Second sem\\CV\\cnn\\train\\D'.\n",
      "There are 0 directories and 3000 images in 'F:\\M.tech\\Second sem\\CV\\cnn\\train\\del'.\n",
      "There are 0 directories and 3000 images in 'F:\\M.tech\\Second sem\\CV\\cnn\\train\\E'.\n",
      "There are 0 directories and 3000 images in 'F:\\M.tech\\Second sem\\CV\\cnn\\train\\F'.\n",
      "There are 0 directories and 3000 images in 'F:\\M.tech\\Second sem\\CV\\cnn\\train\\G'.\n",
      "There are 0 directories and 3000 images in 'F:\\M.tech\\Second sem\\CV\\cnn\\train\\H'.\n",
      "There are 0 directories and 3000 images in 'F:\\M.tech\\Second sem\\CV\\cnn\\train\\I'.\n",
      "There are 0 directories and 3000 images in 'F:\\M.tech\\Second sem\\CV\\cnn\\train\\J'.\n",
      "There are 0 directories and 3000 images in 'F:\\M.tech\\Second sem\\CV\\cnn\\train\\K'.\n",
      "There are 0 directories and 3000 images in 'F:\\M.tech\\Second sem\\CV\\cnn\\train\\L'.\n",
      "There are 0 directories and 3000 images in 'F:\\M.tech\\Second sem\\CV\\cnn\\train\\M'.\n",
      "There are 0 directories and 3000 images in 'F:\\M.tech\\Second sem\\CV\\cnn\\train\\N'.\n",
      "There are 0 directories and 3000 images in 'F:\\M.tech\\Second sem\\CV\\cnn\\train\\nothing'.\n",
      "There are 0 directories and 3000 images in 'F:\\M.tech\\Second sem\\CV\\cnn\\train\\O'.\n",
      "There are 0 directories and 3000 images in 'F:\\M.tech\\Second sem\\CV\\cnn\\train\\P'.\n",
      "There are 0 directories and 3000 images in 'F:\\M.tech\\Second sem\\CV\\cnn\\train\\Q'.\n",
      "There are 0 directories and 3000 images in 'F:\\M.tech\\Second sem\\CV\\cnn\\train\\R'.\n",
      "There are 0 directories and 3000 images in 'F:\\M.tech\\Second sem\\CV\\cnn\\train\\S'.\n",
      "There are 0 directories and 3000 images in 'F:\\M.tech\\Second sem\\CV\\cnn\\train\\space'.\n",
      "There are 0 directories and 3000 images in 'F:\\M.tech\\Second sem\\CV\\cnn\\train\\T'.\n",
      "There are 0 directories and 3000 images in 'F:\\M.tech\\Second sem\\CV\\cnn\\train\\U'.\n",
      "There are 0 directories and 3000 images in 'F:\\M.tech\\Second sem\\CV\\cnn\\train\\V'.\n",
      "There are 0 directories and 3000 images in 'F:\\M.tech\\Second sem\\CV\\cnn\\train\\W'.\n",
      "There are 0 directories and 3000 images in 'F:\\M.tech\\Second sem\\CV\\cnn\\train\\X'.\n",
      "There are 0 directories and 3000 images in 'F:\\M.tech\\Second sem\\CV\\cnn\\train\\Y'.\n",
      "There are 0 directories and 3000 images in 'F:\\M.tech\\Second sem\\CV\\cnn\\train\\Z'.\n"
     ]
    }
   ],
   "source": [
    "walk_through_dir(image_path)"
   ]
  },
  {
   "cell_type": "code",
   "execution_count": 7,
   "id": "adc6c13c",
   "metadata": {},
   "outputs": [
    {
     "data": {
      "text/plain": [
       "(WindowsPath('F:/M.tech/Second sem/CV/cnn/train'),\n",
       " WindowsPath('F:/M.tech/Second sem/CV/cnn/test'))"
      ]
     },
     "execution_count": 7,
     "metadata": {},
     "output_type": "execute_result"
    }
   ],
   "source": [
    "# Setup train and testing paths\n",
    "train_dir = image_path / \"train\"\n",
    "test_dir = image_path / \"test\"\n",
    "\n",
    "train_dir, test_dir"
   ]
  },
  {
   "cell_type": "code",
   "execution_count": 8,
   "id": "19e0d634",
   "metadata": {},
   "outputs": [],
   "source": [
    "from torch.utils.data import DataLoader\n",
    "from torchvision import datasets, transforms"
   ]
  },
  {
   "cell_type": "code",
   "execution_count": 9,
   "id": "419b9310",
   "metadata": {},
   "outputs": [],
   "source": [
    "# Write transform for image\n",
    "simple_transform = transforms.Compose([\n",
    "    transforms.Resize(size=(64, 64)),\n",
    "    transforms.RandomHorizontalFlip(p=0.5), \n",
    "    transforms.ToTensor()\n",
    "])"
   ]
  },
  {
   "cell_type": "code",
   "execution_count": 10,
   "id": "05e450cc",
   "metadata": {},
   "outputs": [
    {
     "name": "stdout",
     "output_type": "stream",
     "text": [
      "Train data:\n",
      "Dataset ImageFolder\n",
      "    Number of datapoints: 87000\n",
      "    Root location: F:\\M.tech\\Second sem\\CV\\cnn\\train\n",
      "    StandardTransform\n",
      "Transform: Compose(\n",
      "               Resize(size=(64, 64), interpolation=bilinear, max_size=None, antialias=None)\n",
      "               RandomHorizontalFlip(p=0.5)\n",
      "               ToTensor()\n",
      "           ) Test data :Dataset ImageFolder\n",
      "    Number of datapoints: 28\n",
      "    Root location: F:\\M.tech\\Second sem\\CV\\cnn\\test\n",
      "    StandardTransform\n",
      "Transform: Compose(\n",
      "               Resize(size=(64, 64), interpolation=bilinear, max_size=None, antialias=None)\n",
      "               RandomHorizontalFlip(p=0.5)\n",
      "               ToTensor()\n",
      "           )\n"
     ]
    }
   ],
   "source": [
    "\n",
    "train_data = datasets.ImageFolder(root=train_dir, \n",
    "                                  transform=simple_transform, \n",
    "                                  target_transform=None) \n",
    "test_data = datasets.ImageFolder(root=test_dir, \n",
    "                                  transform=simple_transform, \n",
    "                                  target_transform=None)\n",
    "\n",
    "\n",
    "print(f\"Train data:\\n{train_data} Test data :{test_data}\")"
   ]
  },
  {
   "cell_type": "code",
   "execution_count": 11,
   "id": "d0c6da9a",
   "metadata": {},
   "outputs": [
    {
     "data": {
      "text/plain": [
       "['A',\n",
       " 'B',\n",
       " 'C',\n",
       " 'D',\n",
       " 'E',\n",
       " 'F',\n",
       " 'G',\n",
       " 'H',\n",
       " 'I',\n",
       " 'J',\n",
       " 'K',\n",
       " 'L',\n",
       " 'M',\n",
       " 'N',\n",
       " 'O',\n",
       " 'P',\n",
       " 'Q',\n",
       " 'R',\n",
       " 'S',\n",
       " 'T',\n",
       " 'U',\n",
       " 'V',\n",
       " 'W',\n",
       " 'X',\n",
       " 'Y',\n",
       " 'Z',\n",
       " 'del',\n",
       " 'nothing',\n",
       " 'space']"
      ]
     },
     "execution_count": 11,
     "metadata": {},
     "output_type": "execute_result"
    }
   ],
   "source": [
    "# Get class names as a list\n",
    "class_names = train_data.classes\n",
    "class_names"
   ]
  },
  {
   "cell_type": "code",
   "execution_count": 12,
   "id": "b4af75fc",
   "metadata": {},
   "outputs": [
    {
     "name": "stdout",
     "output_type": "stream",
     "text": [
      "Creating DataLoader's with batch size 32 and 12 workers.\n"
     ]
    },
    {
     "data": {
      "text/plain": [
       "(<torch.utils.data.dataloader.DataLoader at 0x2257cac0850>,\n",
       " <torch.utils.data.dataloader.DataLoader at 0x2257cac03a0>)"
      ]
     },
     "execution_count": 12,
     "metadata": {},
     "output_type": "execute_result"
    }
   ],
   "source": [
    "# Setup batch size and number of workers \n",
    "BATCH_SIZE = 32\n",
    "NUM_WORKERS = os.cpu_count()\n",
    "print(f\"Creating DataLoader's with batch size {BATCH_SIZE} and {NUM_WORKERS} workers.\")\n",
    "\n",
    "# Create DataLoader's\n",
    "train_dataloader_simple = DataLoader(train_data, \n",
    "                                     batch_size=BATCH_SIZE, \n",
    "                                     shuffle=True, \n",
    "                                     num_workers=NUM_WORKERS)\n",
    "\n",
    "test_dataloader_simple = DataLoader(test_data, \n",
    "                                    batch_size=BATCH_SIZE, \n",
    "                                    shuffle=False, \n",
    "                                    num_workers=NUM_WORKERS)\n",
    "\n",
    "train_dataloader_simple, test_dataloader_simple"
   ]
  },
  {
   "cell_type": "code",
   "execution_count": 19,
   "id": "fa9ddfb6",
   "metadata": {},
   "outputs": [],
   "source": [
    "class VGG(nn.Module):\n",
    "    \n",
    "    def __init__(self, input_shape: int, hidden_units: int, output_shape: int) -> None:\n",
    "        super().__init__()\n",
    "        self.conv_block_1 = nn.Sequential(\n",
    "            nn.Conv2d(in_channels=input_shape, out_channels=hidden_units, kernel_size=3, stride=1,padding=1), \n",
    "            nn.ReLU(),\n",
    "            nn.Conv2d(in_channels=hidden_units,out_channels=hidden_units,kernel_size=3,stride=1,padding=1),\n",
    "            nn.ReLU(),\n",
    "            nn.Conv2d(in_channels=hidden_units,out_channels=hidden_units,kernel_size=3,stride=1,padding=1),\n",
    "            nn.ReLU(),\n",
    "            nn.MaxPool2d(kernel_size=2,stride=2) \n",
    "        )\n",
    "        self.conv_block_2 = nn.Sequential(\n",
    "            nn.Conv2d(hidden_units, hidden_units, kernel_size=3, padding=1),\n",
    "            nn.ReLU(),\n",
    "            nn.Conv2d(hidden_units, hidden_units, kernel_size=3, padding=1),\n",
    "            nn.ReLU(),\n",
    "            nn.MaxPool2d(2)\n",
    "        )\n",
    "        self.classifier = nn.Sequential(nn.Flatten(),nn.Linear(in_features=hidden_units*16*16,out_features=output_shape)\n",
    "        )\n",
    "    \n",
    "    def forward(self, x: torch.Tensor):\n",
    "        x = self.conv_block_1(x)\n",
    "       # print(x.shape)\n",
    "        x = self.conv_block_2(x)\n",
    "        #print(x.shape)\n",
    "        x = self.classifier(x)\n",
    "       # print(x.shape)\n",
    "        return x\n",
    "\n",
    "torch.manual_seed(42)\n",
    "model_0 = VGG(input_shape=3, \n",
    "                  hidden_units=10, \n",
    "                  output_shape=len(train_data.classes)).to(device)\n"
   ]
  },
  {
   "cell_type": "code",
   "execution_count": 14,
   "id": "c1b57ca0",
   "metadata": {},
   "outputs": [
    {
     "data": {
      "text/plain": [
       "VGG(\n",
       "  (conv_block_1): Sequential(\n",
       "    (0): Conv2d(3, 10, kernel_size=(3, 3), stride=(1, 1), padding=(1, 1))\n",
       "    (1): ReLU()\n",
       "    (2): Conv2d(10, 10, kernel_size=(3, 3), stride=(1, 1), padding=(1, 1))\n",
       "    (3): ReLU()\n",
       "    (4): Conv2d(10, 10, kernel_size=(3, 3), stride=(1, 1), padding=(1, 1))\n",
       "    (5): ReLU()\n",
       "    (6): MaxPool2d(kernel_size=2, stride=2, padding=0, dilation=1, ceil_mode=False)\n",
       "  )\n",
       "  (conv_block_2): Sequential(\n",
       "    (0): Conv2d(10, 10, kernel_size=(3, 3), stride=(1, 1), padding=(1, 1))\n",
       "    (1): ReLU()\n",
       "    (2): Conv2d(10, 10, kernel_size=(3, 3), stride=(1, 1), padding=(1, 1))\n",
       "    (3): ReLU()\n",
       "    (4): MaxPool2d(kernel_size=2, stride=2, padding=0, dilation=1, ceil_mode=False)\n",
       "  )\n",
       "  (classifier): Sequential(\n",
       "    (0): Flatten(start_dim=1, end_dim=-1)\n",
       "    (1): Linear(in_features=2560, out_features=29, bias=True)\n",
       "  )\n",
       ")"
      ]
     },
     "execution_count": 14,
     "metadata": {},
     "output_type": "execute_result"
    }
   ],
   "source": [
    "model_0"
   ]
  },
  {
   "cell_type": "code",
   "execution_count": 15,
   "id": "464dd962",
   "metadata": {
    "scrolled": true
   },
   "outputs": [
    {
     "data": {
      "text/plain": [
       "==========================================================================================\n",
       "Layer (type:depth-idx)                   Output Shape              Param #\n",
       "==========================================================================================\n",
       "VGG                                      [1, 29]                   --\n",
       "├─Sequential: 1-1                        [1, 10, 32, 32]           --\n",
       "│    └─Conv2d: 2-1                       [1, 10, 64, 64]           280\n",
       "│    └─ReLU: 2-2                         [1, 10, 64, 64]           --\n",
       "│    └─Conv2d: 2-3                       [1, 10, 64, 64]           910\n",
       "│    └─ReLU: 2-4                         [1, 10, 64, 64]           --\n",
       "│    └─Conv2d: 2-5                       [1, 10, 64, 64]           910\n",
       "│    └─ReLU: 2-6                         [1, 10, 64, 64]           --\n",
       "│    └─MaxPool2d: 2-7                    [1, 10, 32, 32]           --\n",
       "├─Sequential: 1-2                        [1, 10, 16, 16]           --\n",
       "│    └─Conv2d: 2-8                       [1, 10, 32, 32]           910\n",
       "│    └─ReLU: 2-9                         [1, 10, 32, 32]           --\n",
       "│    └─Conv2d: 2-10                      [1, 10, 32, 32]           910\n",
       "│    └─ReLU: 2-11                        [1, 10, 32, 32]           --\n",
       "│    └─MaxPool2d: 2-12                   [1, 10, 16, 16]           --\n",
       "├─Sequential: 1-3                        [1, 29]                   --\n",
       "│    └─Flatten: 2-13                     [1, 2560]                 --\n",
       "│    └─Linear: 2-14                      [1, 29]                   74,269\n",
       "==========================================================================================\n",
       "Total params: 78,189\n",
       "Trainable params: 78,189\n",
       "Non-trainable params: 0\n",
       "Total mult-adds (M): 10.54\n",
       "==========================================================================================\n",
       "Input size (MB): 0.05\n",
       "Forward/backward pass size (MB): 1.15\n",
       "Params size (MB): 0.31\n",
       "Estimated Total Size (MB): 1.51\n",
       "=========================================================================================="
      ]
     },
     "execution_count": 15,
     "metadata": {},
     "output_type": "execute_result"
    }
   ],
   "source": [
    "# Install torchinfo if it's not available, import it if it is\n",
    "try: \n",
    "    import torchinfo\n",
    "except:\n",
    "    !pip install torchinfo\n",
    "    import torchinfo\n",
    "    \n",
    "from torchinfo import summary\n",
    "summary(model_0, input_size=[1, 3, 64, 64]) # do a test pass through of an example input size"
   ]
  },
  {
   "cell_type": "code",
   "execution_count": 16,
   "id": "77b5035d",
   "metadata": {},
   "outputs": [],
   "source": [
    "from tqdm.auto import tqdm\n",
    "\n",
    "def train(model: torch.nn.Module, \n",
    "          train_dataloader: torch.utils.data.DataLoader, \n",
    "          test_dataloader: torch.utils.data.DataLoader, \n",
    "          optimizer: torch.optim.Optimizer,\n",
    "          loss_fn: torch.nn.Module = nn.CrossEntropyLoss(),\n",
    "          epochs: int = 5):\n",
    "    \n",
    "    # 2. Create empty results dictionary\n",
    "    results = {\"train_loss\": [],\n",
    "        \"train_acc\": [],\n",
    "        \"test_loss\": [],\n",
    "        \"test_acc\": []\n",
    "    }\n",
    "    \n",
    "    # 3. Loop through training and testing steps for a number of epochs\n",
    "    for epoch in tqdm(range(epochs)):\n",
    "        train_loss, train_acc = train_step(model=model,\n",
    "                                           dataloader=train_dataloader,\n",
    "                                           loss_fn=loss_fn,\n",
    "                                           optimizer=optimizer)\n",
    "        test_loss, test_acc = test_step(model=model,\n",
    "            dataloader=test_dataloader,\n",
    "            loss_fn=loss_fn)\n",
    "        \n",
    "        # 4. Print out what's happening\n",
    "        print(\n",
    "            f\"Epoch: {epoch+1} | \"\n",
    "            f\"train_loss: {train_loss:.4f} | \"\n",
    "            f\"train_acc: {train_acc:.4f} | \"\n",
    "            f\"test_loss: {test_loss:.4f} | \"\n",
    "            f\"test_acc: {test_acc:.4f}\"\n",
    "        )\n",
    "\n",
    "        # 5. Update results dictionary\n",
    "        results[\"train_loss\"].append(train_loss)\n",
    "        results[\"train_acc\"].append(train_acc)\n",
    "        results[\"test_loss\"].append(test_loss)\n",
    "        results[\"test_acc\"].append(test_acc)\n",
    "\n",
    "    # 6. Return the filled results at the end of the epochs\n",
    "    return results"
   ]
  },
  {
   "cell_type": "code",
   "execution_count": 17,
   "id": "0eff18d8",
   "metadata": {},
   "outputs": [],
   "source": [
    "def test_step(model: torch.nn.Module, \n",
    "              dataloader: torch.utils.data.DataLoader, \n",
    "              loss_fn: torch.nn.Module):\n",
    "    # Put model in eval mode\n",
    "    model.eval() \n",
    "    \n",
    "    # Setup test loss and test accuracy values\n",
    "    test_loss, test_acc = 0, 0\n",
    "    \n",
    "    # Turn on inference context manager\n",
    "    with torch.inference_mode():\n",
    "        # Loop through DataLoader batches\n",
    "        for batch, (X, y) in enumerate(dataloader):\n",
    "            # Send data to target device\n",
    "            X, y = X.to(device), y.to(device)\n",
    "    \n",
    "            # 1. Forward pass\n",
    "            test_pred_logits = model(X)\n",
    "\n",
    "            # 2. Calculate and accumulate loss\n",
    "            loss = loss_fn(test_pred_logits, y)\n",
    "            test_loss += loss.item()\n",
    "            \n",
    "            # Calculate and accumulate accuracy\n",
    "            test_pred_labels = test_pred_logits.argmax(dim=1)\n",
    "            test_acc += ((test_pred_labels == y).sum().item()/len(test_pred_labels))\n",
    "            \n",
    "    # Adjust metrics to get average loss and accuracy per batch \n",
    "    test_loss = test_loss / len(dataloader)\n",
    "    test_acc = test_acc / len(dataloader)\n",
    "    return test_loss, test_acc"
   ]
  },
  {
   "cell_type": "code",
   "execution_count": 18,
   "id": "c414c784",
   "metadata": {},
   "outputs": [],
   "source": [
    "def train_step(model: torch.nn.Module, \n",
    "               dataloader: torch.utils.data.DataLoader, \n",
    "               loss_fn: torch.nn.Module, \n",
    "               optimizer: torch.optim.Optimizer):\n",
    "    # Put model in train mode\n",
    "    model.train()\n",
    "    \n",
    "    # Setup train loss and train accuracy values\n",
    "    train_loss, train_acc = 0, 0\n",
    "    \n",
    "    # Loop through data loader data batches\n",
    "    for batch, (X, y) in enumerate(dataloader):\n",
    "        # Send data to target device\n",
    "        X, y = X.to(device), y.to(device)\n",
    "\n",
    "        # 1. Forward pass\n",
    "        y_pred = model(X)\n",
    "\n",
    "        # 2. Calculate  and accumulate loss\n",
    "        loss = loss_fn(y_pred, y)\n",
    "        train_loss += loss.item() \n",
    "\n",
    "        # 3. Optimizer zero grad\n",
    "        optimizer.zero_grad()\n",
    "\n",
    "        # 4. Loss backward\n",
    "        loss.backward()\n",
    "\n",
    "        # 5. Optimizer step\n",
    "        optimizer.step()\n",
    "\n",
    "        # Calculate and accumulate accuracy metric across all batches\n",
    "        y_pred_class = torch.argmax(torch.softmax(y_pred, dim=1), dim=1)\n",
    "        train_acc += (y_pred_class == y).sum().item()/len(y_pred)\n",
    "\n",
    "    # Adjust metrics to get average loss and accuracy per batch \n",
    "    train_loss = train_loss / len(dataloader)\n",
    "    train_acc = train_acc / len(dataloader)\n",
    "    return train_loss, train_acc"
   ]
  },
  {
   "cell_type": "code",
   "execution_count": 23,
   "id": "6533c6a1",
   "metadata": {},
   "outputs": [
    {
     "data": {
      "application/vnd.jupyter.widget-view+json": {
       "model_id": "97b5f9747c3a465bb27931f2d1861b4e",
       "version_major": 2,
       "version_minor": 0
      },
      "text/plain": [
       "  0%|          | 0/5 [00:00<?, ?it/s]"
      ]
     },
     "metadata": {},
     "output_type": "display_data"
    },
    {
     "name": "stdout",
     "output_type": "stream",
     "text": [
      "Epoch: 1 | train_loss: 1.4340 | train_acc: 0.5681 | test_loss: 3.0375 | test_acc: 0.8214\n",
      "Epoch: 2 | train_loss: 0.3651 | train_acc: 0.8788 | test_loss: 4.2370 | test_acc: 0.8571\n",
      "Epoch: 3 | train_loss: 0.2344 | train_acc: 0.9222 | test_loss: 3.9465 | test_acc: 0.9286\n",
      "Epoch: 4 | train_loss: 0.1751 | train_acc: 0.9409 | test_loss: 4.2978 | test_acc: 0.9286\n",
      "Epoch: 5 | train_loss: 0.1421 | train_acc: 0.9518 | test_loss: 5.1731 | test_acc: 0.9286\n",
      "Total training time: 1702.851 seconds\n"
     ]
    }
   ],
   "source": [
    "# Set random seeds\n",
    "torch.manual_seed(42)\n",
    "\n",
    "# Set number of epochs\n",
    "NUM_EPOCHS = 5\n",
    "\n",
    "# Recreate an instance of TinyVGG\n",
    "model_0 = VGG(input_shape=3, # number of color channels (3 for RGB) \n",
    "                  hidden_units=10, \n",
    "                  output_shape=len(train_data.classes)).to(device)\n",
    "\n",
    "# Setup loss function and optimizer\n",
    "loss_fn = nn.CrossEntropyLoss()\n",
    "optimizer = torch.optim.Adam(params=model_0.parameters(), lr=0.001)\n",
    "\n",
    "# Start the timer\n",
    "from timeit import default_timer as timer \n",
    "start_time = timer()\n",
    "\n",
    "# Train model_0 \n",
    "model_0_results = train(model=model_0, \n",
    "                        train_dataloader=train_dataloader_simple,\n",
    "                        test_dataloader=test_dataloader_simple,\n",
    "                        optimizer=optimizer,\n",
    "                        loss_fn=loss_fn, \n",
    "                        epochs=NUM_EPOCHS)\n",
    "\n",
    "# End the timer and print out how long it took\n",
    "end_time = timer()\n",
    "print(f\"Total training time: {end_time-start_time:.3f} seconds\")"
   ]
  },
  {
   "cell_type": "code",
   "execution_count": null,
   "id": "a8a37afd",
   "metadata": {},
   "outputs": [],
   "source": []
  },
  {
   "cell_type": "code",
   "execution_count": null,
   "id": "62e76e43",
   "metadata": {},
   "outputs": [],
   "source": []
  },
  {
   "cell_type": "code",
   "execution_count": null,
   "id": "15d24e89",
   "metadata": {},
   "outputs": [],
   "source": []
  }
 ],
 "metadata": {
  "kernelspec": {
   "display_name": "Python 3 (ipykernel)",
   "language": "python",
   "name": "python3"
  },
  "language_info": {
   "codemirror_mode": {
    "name": "ipython",
    "version": 3
   },
   "file_extension": ".py",
   "mimetype": "text/x-python",
   "name": "python",
   "nbconvert_exporter": "python",
   "pygments_lexer": "ipython3",
   "version": "3.9.12"
  }
 },
 "nbformat": 4,
 "nbformat_minor": 5
}
